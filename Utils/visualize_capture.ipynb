{
  "nbformat": 4,
  "nbformat_minor": 0,
  "metadata": {
    "language_info": {
      "codemirror_mode": {
        "name": "ipython",
        "version": 3
      },
      "file_extension": ".py",
      "mimetype": "text/x-python",
      "name": "python",
      "nbconvert_exporter": "python",
      "pygments_lexer": "ipython3",
      "version": "3.7.9-final"
    },
    "orig_nbformat": 2,
    "kernelspec": {
      "name": "python379jvsc74a57bd0f24af7ff3890cac290630b98cd4de2d178de4e0ec6c7e0f8f52d5ee9d62eae58",
      "display_name": "Python 3.7.9 64-bit"
    },
    "metadata": {
      "interpreter": {
        "hash": "f24af7ff3890cac290630b98cd4de2d178de4e0ec6c7e0f8f52d5ee9d62eae58"
      }
    },
    "colab": {
      "name": "visualize_capture.ipynb",
      "provenance": []
    }
  },
  "cells": [
    {
      "cell_type": "code",
      "metadata": {
        "id": "Ba-Lnil03KRF"
      },
      "source": [
        "import matplotlib.pyplot as plt\n",
        "import data_utils\n",
        "import numpy as np"
      ],
      "execution_count": null,
      "outputs": []
    },
    {
      "cell_type": "code",
      "metadata": {
        "id": "newF3Y2D3KRO"
      },
      "source": [
        "# add argument to load a specific capture\n",
        "data, keys = data_utils.load_capture_data(\"2021-04-09-014947\")\n",
        "# OR provide no arguments to load the latest folder\n",
        "data, keys = data_utils.load_capture_data()"
      ],
      "execution_count": null,
      "outputs": []
    },
    {
      "cell_type": "code",
      "metadata": {
        "id": "vhEk8_Ci3KRQ"
      },
      "source": [
        "# convert the most recent capture to JSON\n",
        "path = data_utils.convert_capture_json()"
      ],
      "execution_count": null,
      "outputs": []
    },
    {
      "cell_type": "code",
      "metadata": {
        "id": "1R_Sd2JU3KRR"
      },
      "source": [
        "data = data_utils.load_json(path)"
      ],
      "execution_count": null,
      "outputs": []
    },
    {
      "cell_type": "code",
      "metadata": {
        "id": "cKtCU39i3KRS"
      },
      "source": [
        "\n",
        "fig = plt.gcf()\n",
        "fig.set_size_inches(26, 6)\n",
        "index = 1\n",
        "for i, a in enumerate(data.keys()):\n",
        "    controllers = len(data.keys())\n",
        "    subplots = len(data[a].keys())\n",
        "    for j, b in enumerate(data[a].keys()):\n",
        "        plt.subplot(controllers, subplots, index)\n",
        "        plt.title(b)\n",
        "        plt.xticks([])\n",
        "        plt.yticks([])\n",
        "        plt.plot(data[a][b])\n",
        "        index += 1\n",
        "plt.show()"
      ],
      "execution_count": null,
      "outputs": []
    },
    {
      "cell_type": "code",
      "metadata": {
        "id": "7WF5BQGh3KRS"
      },
      "source": [
        "rng = [1400, 2300]\n",
        "controller = \"c0\"\n",
        "midi_notes = np.asarray(data[controller][\"midi_note\"])\n",
        "midi_notes = midi_notes[:, 1]\n",
        "print(midi_notes.shape)\n",
        "unique = np.unique(midi_notes)\n",
        "midi_simple = []\n",
        "for m in midi_notes:\n",
        "    midi_simple.append(np.where(unique == m)[0])\n",
        "midi_simple = np.asarray(midi_simple)\n",
        "\n",
        "midi_simple = np.clip(midi_simple, 0, 1)\n",
        "\n",
        "plt.title(\"Velocity + MIDI\")\n",
        "plt.plot(midi_simple[rng[0]:rng[1]])\n",
        "plt.plot(data[controller][\"ang_vel\"][rng[0]:rng[1]])\n",
        "plt.show()"
      ],
      "execution_count": null,
      "outputs": []
    }
  ]
}